{
 "cells": [
  {
   "cell_type": "code",
   "execution_count": 1,
   "id": "ea01a97a",
   "metadata": {},
   "outputs": [
    {
     "name": "stdout",
     "output_type": "stream",
     "text": [
      "Number of samples in each class before oversampling:\n",
      "0    23364\n",
      "1     6636\n",
      "Name: default.payment.next.month, dtype: int64\n"
     ]
    },
    {
     "name": "stderr",
     "output_type": "stream",
     "text": [
      "C:\\Users\\trish\\anaconda3\\lib\\site-packages\\sklearn\\cluster\\_kmeans.py:1043: UserWarning: MiniBatchKMeans is known to have a memory leak on Windows with MKL, when there are less chunks than available threads. You can prevent it by setting batch_size >= 4096 or by setting the environment variable OMP_NUM_THREADS=4\n",
      "  warnings.warn(\n"
     ]
    },
    {
     "name": "stdout",
     "output_type": "stream",
     "text": [
      "Number of samples in each class after oversampling:\n",
      "1    23367\n",
      "0    23364\n",
      "Name: default.payment.next.month, dtype: int64\n",
      "Number of outliers detected:\n",
      " 1    43148\n",
      "-1     3583\n",
      "dtype: int64\n",
      "Number of samples in each class after removing outliers:\n",
      "1    22281\n",
      "0    20867\n",
      "Name: default.payment.next.month, dtype: int64\n"
     ]
    }
   ],
   "source": [
    "# Import the required libraries\n",
    "import numpy as np\n",
    "import pandas as pd\n",
    "from sklearn.ensemble import IsolationForest\n",
    "from imblearn.over_sampling import KMeansSMOTE\n",
    "\n",
    "# Load the dataset\n",
    "df = pd.read_csv('UCI_Credit_Card.csv')\n",
    "X = df.iloc[:, :-1]\n",
    "y = df.iloc[:, -1]\n",
    "\n",
    "# Print the number of samples in each class before oversampling\n",
    "print(\"Number of samples in each class before oversampling:\")\n",
    "print(y.value_counts())\n",
    "\n",
    "# Perform KMeansSMOTE to oversample the minority class\n",
    "kmeans_smote = KMeansSMOTE(random_state=42, cluster_balance_threshold=0.2)\n",
    "X_resampled, y_resampled = kmeans_smote.fit_resample(X, y)\n",
    "\n",
    "# Print the number of samples in each class after oversampling\n",
    "print(\"Number of samples in each class after oversampling:\")\n",
    "print(pd.Series(y_resampled).value_counts())\n",
    "\n",
    "# Perform outlier detection using Isolation Forest\n",
    "iso_forest = IsolationForest(random_state=42, contamination='auto')\n",
    "y_outliers = iso_forest.fit_predict(X_resampled)\n",
    "\n",
    "# Print the number of outliers detected\n",
    "print(\"Number of outliers detected:\")\n",
    "print(pd.Series(y_outliers).value_counts())\n",
    "\n",
    "# Remove the outliers\n",
    "X_no_outliers = X_resampled[y_outliers == 1]\n",
    "y_no_outliers = y_resampled[y_outliers == 1]\n",
    "\n",
    "# Print the number of samples in each class after removing outliers\n",
    "print(\"Number of samples in each class after removing outliers:\")\n",
    "print(pd.Series(y_no_outliers).value_counts())"
   ]
  },
  {
   "cell_type": "code",
   "execution_count": 2,
   "id": "0bc95cdf",
   "metadata": {},
   "outputs": [
    {
     "name": "stdout",
     "output_type": "stream",
     "text": [
      "Collecting imblearn\n",
      "  Downloading imblearn-0.0-py2.py3-none-any.whl (1.9 kB)\n",
      "Collecting imbalanced-learn\n",
      "  Downloading imbalanced_learn-0.10.1-py3-none-any.whl (226 kB)\n",
      "     ------------------------------------ 226.0/226.0 kB 726.5 kB/s eta 0:00:00\n",
      "Requirement already satisfied: scipy>=1.3.2 in c:\\users\\trish\\anaconda3\\lib\\site-packages (from imbalanced-learn->imblearn) (1.9.1)\n",
      "Collecting joblib>=1.1.1\n",
      "  Using cached joblib-1.2.0-py3-none-any.whl (297 kB)\n",
      "Requirement already satisfied: scikit-learn>=1.0.2 in c:\\users\\trish\\anaconda3\\lib\\site-packages (from imbalanced-learn->imblearn) (1.0.2)\n",
      "Requirement already satisfied: threadpoolctl>=2.0.0 in c:\\users\\trish\\anaconda3\\lib\\site-packages (from imbalanced-learn->imblearn) (2.2.0)\n",
      "Requirement already satisfied: numpy>=1.17.3 in c:\\users\\trish\\anaconda3\\lib\\site-packages (from imbalanced-learn->imblearn) (1.21.5)\n",
      "Installing collected packages: joblib, imbalanced-learn, imblearn\n",
      "  Attempting uninstall: joblib\n",
      "    Found existing installation: joblib 1.1.0\n",
      "    Uninstalling joblib-1.1.0:\n",
      "      Successfully uninstalled joblib-1.1.0\n",
      "Successfully installed imbalanced-learn-0.10.1 imblearn-0.0 joblib-1.2.0\n",
      "Note: you may need to restart the kernel to use updated packages.\n"
     ]
    }
   ],
   "source": [
    "pip install imblearn"
   ]
  },
  {
   "cell_type": "code",
   "execution_count": 2,
   "id": "9c058900",
   "metadata": {},
   "outputs": [
    {
     "name": "stdout",
     "output_type": "stream",
     "text": [
      "Collecting sklearn-genetic\n",
      "  Downloading sklearn_genetic-0.5.1-py3-none-any.whl (11 kB)\n",
      "Collecting deap>=1.0.2\n",
      "  Downloading deap-1.3.3-cp39-cp39-win_amd64.whl (114 kB)\n",
      "     ------------------------------------ 114.3/114.3 kB 738.0 kB/s eta 0:00:00\n",
      "Requirement already satisfied: numpy in c:\\users\\trish\\anaconda3\\lib\\site-packages (from sklearn-genetic) (1.21.5)\n",
      "Collecting multiprocess\n",
      "  Downloading multiprocess-0.70.14-py39-none-any.whl (132 kB)\n",
      "     -------------------------------------- 132.9/132.9 kB 1.3 MB/s eta 0:00:00\n",
      "Requirement already satisfied: scikit-learn>=0.23 in c:\\users\\trish\\anaconda3\\lib\\site-packages (from sklearn-genetic) (1.0.2)\n",
      "Requirement already satisfied: threadpoolctl>=2.0.0 in c:\\users\\trish\\anaconda3\\lib\\site-packages (from scikit-learn>=0.23->sklearn-genetic) (2.2.0)\n",
      "Requirement already satisfied: joblib>=0.11 in c:\\users\\trish\\anaconda3\\lib\\site-packages (from scikit-learn>=0.23->sklearn-genetic) (1.2.0)\n",
      "Requirement already satisfied: scipy>=1.1.0 in c:\\users\\trish\\anaconda3\\lib\\site-packages (from scikit-learn>=0.23->sklearn-genetic) (1.9.1)\n",
      "Collecting dill>=0.3.6\n",
      "  Downloading dill-0.3.6-py3-none-any.whl (110 kB)\n",
      "     -------------------------------------- 110.5/110.5 kB 2.1 MB/s eta 0:00:00\n",
      "Installing collected packages: dill, deap, multiprocess, sklearn-genetic\n",
      "  Attempting uninstall: dill\n",
      "    Found existing installation: dill 0.3.4\n",
      "    Uninstalling dill-0.3.4:\n",
      "      Successfully uninstalled dill-0.3.4\n",
      "Successfully installed deap-1.3.3 dill-0.3.6 multiprocess-0.70.14 sklearn-genetic-0.5.1\n",
      "Note: you may need to restart the kernel to use updated packages.\n"
     ]
    }
   ],
   "source": [
    "pip install sklearn-genetic"
   ]
  },
  {
   "cell_type": "code",
   "execution_count": 2,
   "id": "cd5903db",
   "metadata": {},
   "outputs": [
    {
     "name": "stdout",
     "output_type": "stream",
     "text": [
      "Selecting features with genetic algorithm.\n",
      "gen\tnevals\tavg                            \tstd                            \tmin                            \tmax                               \n",
      "0  \t50    \t[-0.258389  5.72      0.315346]\t[ 0.529035  3.187726  0.089977]\t[-1.581147  1.        0.02519 ]\t[  0.407458  10.         0.460512]\n",
      "1  \t25    \t[-399.797131    7.12      400.348406]\t[ 1959.633212     2.688048  1959.520677]\t[-10000.            1.            0.261438]\t[     0.41943     11.       10000.     ]\n",
      "2  \t22    \t[-799.710737    8.66      800.34238 ]\t[ 2713.017295     1.893251  2712.831031]\t[-10000.           3.           0.28254]   \t[     0.420637     11.        10000.      ]\n",
      "3  \t25    \t[-1199.671826     9.42      1200.3268  ]\t[ 3249.736549     1.312859  3249.494683]\t[-10000.            5.            0.339208]\t[     0.439198     13.        10000.      ]\n",
      "4  \t25    \t[-1399.655599     9.66      1400.31958 ]\t[ 3470.009271     1.176605  3469.741373]\t[-10000.            7.            0.337742]\t[     0.439198     13.        10000.      ]\n",
      "5  \t28    \t[-999.683583    9.44     1000.329041]   \t[ 3000.105481     1.168931  2999.89032 ]\t[-10000.           7.           0.29486]   \t[     0.439198     12.        10000.      ]\n",
      "6  \t27    \t[-1399.664085     9.6       1400.317902]\t[ 3470.00585     1.2      3469.74205]   \t[-10000.           7.           0.32594]   \t[     0.440868     12.        10000.      ]\n",
      "7  \t27    \t[-999.633391    9.64     1000.332644]   \t[ 3000.122206     1.162067  2999.889119]\t[-10000.            6.            0.350204]\t[     0.447457     13.        10000.      ]\n",
      "8  \t31    \t[-1399.630427     9.64      1400.318704]\t[ 3470.019428     1.034601  3469.741726]\t[-10000.            7.            0.330721]\t[     0.460821     12.        10000.      ]\n",
      "9  \t32    \t[-1399.623203     9.58      1400.315849]\t[ 3470.022342     1.167733  3469.742878]\t[-10000.            6.            0.347481]\t[     0.4727     13.      10000.    ]      \n",
      "10 \t31    \t[-1599.64619      9.6       1600.307295]\t[ 3666.214974     1.131371  3665.926442]\t[-10000.            7.            0.346281]\t[     0.4727     13.      10000.    ]      \n",
      "11 \t26    \t[-1199.600389     9.62      1200.319503]\t[ 3249.762928     0.914112  3249.497377]\t[-10000.            7.            0.350648]\t[     0.479289     12.        10000.      ]\n",
      "12 \t32    \t[-2799.669547     9.88      2800.261069]\t[ 4490.194938     1.088853  4489.826059]\t[-10000.            8.            0.348104]\t[     0.480031     12.        10000.      ]\n",
      "13 \t26    \t[-599.5635      9.68      600.339763]   \t[ 2374.978697     0.76      2374.782578]\t[-10000.            8.            0.350625]\t[     0.480031     12.        10000.      ]\n",
      "14 \t26    \t[-399.545993   10.        400.342956]   \t[ 1959.684468     0.52915   1959.521789]\t[-10000.            9.            0.348047]\t[     0.480031     13.        10000.      ]\n",
      "15 \t29    \t[-199.532508   10.04      200.346226]   \t[ 1400.066785     0.28      1399.950539]\t[-10000.           10.            0.345204]\t[     0.481237     12.        10000.      ]\n",
      "16 \t29    \t[-599.551095   10.08      600.330981]   \t[ 2374.981831     0.483322  2374.784797]\t[-10000.            9.            0.346596]\t[     0.483557     13.        10000.      ]\n",
      "17 \t27    \t[-999.573028   10.02     1000.317689]   \t[ 3000.142324     0.706824  2999.894104]\t[-10000.            7.            0.348274]\t[     0.483557     12.        10000.      ]\n",
      "18 \t29    \t[-999.570741   10.14     1000.316058]   \t[ 3000.143086     0.721388  2999.894647]\t[-10000.            8.            0.329418]\t[     0.483557     14.        10000.      ]\n",
      "19 \t35    \t[-799.562481   10.12      800.324328]   \t[ 2713.061011     0.430813  2712.836354]\t[-10000.           10.            0.346727]\t[     0.483557     12.        10000.      ]\n",
      "20 \t34    \t[-599.554068    9.98      600.331633]   \t[ 2374.98108      0.616117  2374.784632]\t[-10000.            8.            0.346045]\t[     0.481516     13.        10000.      ]\n",
      "21 \t23    \t[-1199.601505    10.08      1200.308026]\t[ 3249.762519     0.391918  3249.501616]\t[-10000.            9.            0.284332]\t[     0.482722     11.        10000.      ]\n"
     ]
    }
   ],
   "source": [
    "from sklearn import linear_model\n",
    "from sklearn.ensemble import RandomForestRegressor\n",
    "from sklearn.ensemble import ExtraTreesClassifier\n",
    "\n",
    "from genetic_selection import GeneticSelectionCV\n",
    "estimator = ExtraTreesClassifier()\n",
    "\n",
    "selector = GeneticSelectionCV(estimator,cv=5,\n",
    "                                  verbose=1,\n",
    "                                  scoring=\"r2\", \n",
    "                                  max_features=10,\n",
    "                                  n_population=50,\n",
    "                                  crossover_proba=0.5,\n",
    "                                  mutation_proba=0.2,\n",
    "                                  n_generations=40,\n",
    "                                  crossover_independent_proba=0.5,\n",
    "                                  mutation_independent_proba=0.05,\n",
    "                                  tournament_size=3,\n",
    "                                  n_gen_no_change=10,\n",
    "                                  caching=True,\n",
    "                                  n_jobs=-1)\n",
    "selector = selector.fit(X_no_outliers, y_no_outliers)"
   ]
  },
  {
   "cell_type": "code",
   "execution_count": 3,
   "id": "1b005e9b",
   "metadata": {},
   "outputs": [
    {
     "name": "stdout",
     "output_type": "stream",
     "text": [
      "Genetic algorithm result:\n",
      "[False  True False False False False  True False False False False False\n",
      "  True False  True False  True  True  True False False  True  True  True]\n",
      "List of important features :\n",
      "Index(['LIMIT_BAL', 'PAY_0', 'BILL_AMT1', 'BILL_AMT3', 'BILL_AMT5',\n",
      "       'BILL_AMT6', 'PAY_AMT1', 'PAY_AMT4', 'PAY_AMT5', 'PAY_AMT6'],\n",
      "      dtype='object')\n",
      "List of less important features :\n",
      "Index(['ID', 'SEX', 'EDUCATION', 'MARRIAGE', 'AGE', 'PAY_2', 'PAY_3', 'PAY_4',\n",
      "       'PAY_5', 'PAY_6', 'BILL_AMT2', 'BILL_AMT4', 'PAY_AMT2', 'PAY_AMT3'],\n",
      "      dtype='object')\n"
     ]
    }
   ],
   "source": [
    "print('Genetic algorithm result:')\n",
    "print(selector.support_)\n",
    "X_no_outliers = pd.DataFrame(X_no_outliers, columns=X.columns)\n",
    "print('List of important features :')\n",
    "print(X_no_outliers.columns[selector.support_])\n",
    "print('List of less important features :')\n",
    "print(X_no_outliers.columns[~selector.support_])"
   ]
  },
  {
   "cell_type": "code",
   "execution_count": null,
   "id": "0cd8b280",
   "metadata": {},
   "outputs": [],
   "source": []
  }
 ],
 "metadata": {
  "kernelspec": {
   "display_name": "Python 3 (ipykernel)",
   "language": "python",
   "name": "python3"
  },
  "language_info": {
   "codemirror_mode": {
    "name": "ipython",
    "version": 3
   },
   "file_extension": ".py",
   "mimetype": "text/x-python",
   "name": "python",
   "nbconvert_exporter": "python",
   "pygments_lexer": "ipython3",
   "version": "3.9.13"
  }
 },
 "nbformat": 4,
 "nbformat_minor": 5
}
