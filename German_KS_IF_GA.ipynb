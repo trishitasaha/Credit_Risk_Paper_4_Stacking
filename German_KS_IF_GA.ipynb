{
 "cells": [
  {
   "cell_type": "code",
   "execution_count": 1,
   "id": "ff693567",
   "metadata": {},
   "outputs": [
    {
     "name": "stdout",
     "output_type": "stream",
     "text": [
      "Number of samples in each class before oversampling:\n",
      "good    700\n",
      "bad     300\n",
      "Name: Risk, dtype: int64\n"
     ]
    },
    {
     "name": "stderr",
     "output_type": "stream",
     "text": [
      "C:\\Users\\trish\\anaconda3\\lib\\site-packages\\sklearn\\cluster\\_kmeans.py:1043: UserWarning: MiniBatchKMeans is known to have a memory leak on Windows with MKL, when there are less chunks than available threads. You can prevent it by setting batch_size >= 4096 or by setting the environment variable OMP_NUM_THREADS=4\n",
      "  warnings.warn(\n"
     ]
    },
    {
     "name": "stdout",
     "output_type": "stream",
     "text": [
      "Number of samples in each class after oversampling:\n",
      "bad     707\n",
      "good    700\n",
      "Name: Risk, dtype: int64\n",
      "Number of outliers detected:\n",
      " 1    979\n",
      "-1    428\n",
      "dtype: int64\n",
      "Number of samples in each class after removing outliers:\n",
      "bad     519\n",
      "good    460\n",
      "Name: Risk, dtype: int64\n"
     ]
    }
   ],
   "source": [
    "# Import required libraries\n",
    "import numpy as np\n",
    "import pandas as pd\n",
    "from sklearn.preprocessing import LabelEncoder\n",
    "\n",
    "# Load the dataset\n",
    "df = pd.read_csv('german_credit_data.csv')\n",
    "\n",
    "# Drop unnecessary columns\n",
    "df.drop(['Unnamed: 0', 'Checking account'], axis=1, inplace=True)\n",
    "\n",
    "# Convert categorical variables to numerical form using label encoding\n",
    "le = LabelEncoder()\n",
    "df['Sex'] = le.fit_transform(df['Sex'])\n",
    "df['Housing'] = le.fit_transform(df['Housing'])\n",
    "df['Saving accounts'] = le.fit_transform(df['Saving accounts'])\n",
    "df['Purpose'] = le.fit_transform(df['Purpose'])\n",
    "\n",
    "# Split the dataset into input and output variables\n",
    "X = df.iloc[:, :-1]\n",
    "y = df.iloc[:, -1]\n",
    "\n",
    "# Print the number of samples in each class before oversampling\n",
    "print(\"Number of samples in each class before oversampling:\")\n",
    "print(y.value_counts())\n",
    "\n",
    "# Oversample the minority class using KMeansSMOTE\n",
    "from imblearn.over_sampling import KMeansSMOTE\n",
    "kmeans_smote = KMeansSMOTE(random_state=42, cluster_balance_threshold=0.2)\n",
    "X_resampled, y_resampled = kmeans_smote.fit_resample(X, y)\n",
    "\n",
    "# Print the number of samples in each class after oversampling\n",
    "print(\"Number of samples in each class after oversampling:\")\n",
    "print(pd.Series(y_resampled).value_counts())\n",
    "\n",
    "# Detect outliers using Isolation Forest\n",
    "from sklearn.ensemble import IsolationForest\n",
    "iso_forest = IsolationForest(random_state=42, contamination='auto')\n",
    "y_outliers = iso_forest.fit_predict(X_resampled)\n",
    "\n",
    "# Print the number of outliers detected\n",
    "print(\"Number of outliers detected:\")\n",
    "print(pd.Series(y_outliers).value_counts())\n",
    "\n",
    "# Remove outliers\n",
    "X_no_outliers = X_resampled[y_outliers == 1]\n",
    "y_no_outliers = y_resampled[y_outliers == 1]\n",
    "\n",
    "# Print the number of samples in each class after removing outliers\n",
    "print(\"Number of samples in each class after removing outliers:\")\n",
    "print(pd.Series(y_no_outliers).value_counts())"
   ]
  },
  {
   "cell_type": "code",
   "execution_count": 2,
   "id": "ebdec05f",
   "metadata": {},
   "outputs": [
    {
     "name": "stdout",
     "output_type": "stream",
     "text": [
      "Selecting features with genetic algorithm.\n",
      "gen\tnevals\tavg             \tstd                            \tmin             \tmax             \n",
      "0  \t50    \t[ nan  3.1  nan]\t[      nan  1.431782       nan]\t[ nan   1.  nan]\t[ nan   5.  nan]\n",
      "1  \t23    \t[  nan  3.38   nan]\t[      nan  1.468196       nan]\t[ nan   0.  nan]\t[ nan   7.  nan]\n",
      "2  \t28    \t[  nan  3.36   nan]\t[      nan  1.452722       nan]\t[ nan   1.  nan]\t[ nan   5.  nan]\n",
      "3  \t37    \t[  nan  3.34   nan]\t[  nan  1.38   nan]            \t[ nan   0.  nan]\t[ nan   6.  nan]\n",
      "4  \t24    \t[  nan  3.28   nan]\t[      nan  1.371714       nan]\t[ nan   0.  nan]\t[ nan   6.  nan]\n",
      "5  \t26    \t[ nan  3.5  nan]   \t[      nan  1.459452       nan]\t[ nan   0.  nan]\t[ nan   6.  nan]\n",
      "6  \t26    \t[  nan  3.28   nan]\t[      nan  1.357056       nan]\t[ nan   0.  nan]\t[ nan   6.  nan]\n",
      "7  \t36    \t[  nan  2.98   nan]\t[      nan  1.174564       nan]\t[ nan   1.  nan]\t[ nan   6.  nan]\n",
      "8  \t24    \t[  nan  2.84   nan]\t[      nan  1.172348       nan]\t[ nan   1.  nan]\t[ nan   6.  nan]\n",
      "9  \t28    \t[  nan  2.52   nan]\t[      nan  1.170299       nan]\t[ nan   1.  nan]\t[ nan   6.  nan]\n",
      "10 \t28    \t[  nan  2.38   nan]\t[      nan  1.214743       nan]\t[ nan   0.  nan]\t[ nan   6.  nan]\n"
     ]
    }
   ],
   "source": [
    "from sklearn import linear_model\n",
    "from sklearn.ensemble import RandomForestRegressor\n",
    "from sklearn.ensemble import ExtraTreesClassifier\n",
    "\n",
    "from genetic_selection import GeneticSelectionCV\n",
    "estimator = ExtraTreesClassifier()\n",
    "\n",
    "selector = GeneticSelectionCV(estimator,cv=5,\n",
    "                                  verbose=1,\n",
    "                                  scoring=\"r2\", \n",
    "                                  max_features=5,\n",
    "                                  n_population=50,\n",
    "                                  crossover_proba=0.5,\n",
    "                                  mutation_proba=0.2,\n",
    "                                  n_generations=40,\n",
    "                                  crossover_independent_proba=0.5,\n",
    "                                  mutation_independent_proba=0.05,\n",
    "                                  tournament_size=3,\n",
    "                                  n_gen_no_change=10,\n",
    "                                  caching=True,\n",
    "                                  n_jobs=-1)\n",
    "selector = selector.fit(X_no_outliers, y_no_outliers)"
   ]
  },
  {
   "cell_type": "code",
   "execution_count": 3,
   "id": "0e90f57f",
   "metadata": {},
   "outputs": [
    {
     "name": "stdout",
     "output_type": "stream",
     "text": [
      "Genetic algorithm result:\n",
      "[ True False False  True  True False  True  True]\n",
      "List of important features :\n",
      "Index(['Age', 'Housing', 'Saving accounts', 'Duration', 'Purpose'], dtype='object')\n",
      "List of less important features :\n",
      "Index(['Sex', 'Job', 'Credit amount'], dtype='object')\n"
     ]
    }
   ],
   "source": [
    "print('Genetic algorithm result:')\n",
    "print(selector.support_)\n",
    "X_no_outliers = pd.DataFrame(X_no_outliers, columns=X.columns)\n",
    "print('List of important features :')\n",
    "print(X_no_outliers.columns[selector.support_])\n",
    "print('List of less important features :')\n",
    "print(X_no_outliers.columns[~selector.support_])"
   ]
  },
  {
   "cell_type": "code",
   "execution_count": null,
   "id": "d1934c35",
   "metadata": {},
   "outputs": [],
   "source": []
  }
 ],
 "metadata": {
  "kernelspec": {
   "display_name": "Python 3 (ipykernel)",
   "language": "python",
   "name": "python3"
  },
  "language_info": {
   "codemirror_mode": {
    "name": "ipython",
    "version": 3
   },
   "file_extension": ".py",
   "mimetype": "text/x-python",
   "name": "python",
   "nbconvert_exporter": "python",
   "pygments_lexer": "ipython3",
   "version": "3.9.13"
  }
 },
 "nbformat": 4,
 "nbformat_minor": 5
}
