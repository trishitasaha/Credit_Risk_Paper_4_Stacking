{
 "cells": [
  {
   "cell_type": "code",
   "execution_count": 1,
   "id": "837716e0",
   "metadata": {},
   "outputs": [
    {
     "name": "stdout",
     "output_type": "stream",
     "text": [
      "Rotation Forest:\n",
      "Accuracy: 0.7225\n",
      "F1 Score: 0.3612\n",
      "Precision: 0.3681\n",
      "Recall: 0.3550\n",
      "--------------------------------------------------\n",
      "Random Forest:\n",
      "Accuracy: 0.8043\n",
      "F1 Score: 0.4213\n",
      "Precision: 0.6093\n",
      "Recall: 0.3222\n",
      "--------------------------------------------------\n",
      "Extra Trees:\n",
      "Accuracy: 0.8013\n",
      "F1 Score: 0.4147\n",
      "Precision: 0.5969\n",
      "Recall: 0.3183\n",
      "--------------------------------------------------\n"
     ]
    }
   ],
   "source": [
    "import pandas as pd\n",
    "from sklearn.model_selection import cross_validate, KFold\n",
    "from sklearn.metrics import accuracy_score, f1_score, precision_score, recall_score\n",
    "from sklearn.ensemble import BaggingClassifier, RandomForestClassifier, ExtraTreesClassifier, \\\n",
    "    VotingClassifier, StackingClassifier, GradientBoostingClassifier, AdaBoostClassifier\n",
    "from sklearn.tree import DecisionTreeClassifier\n",
    "from sklearn.neighbors import KNeighborsClassifier\n",
    "from sklearn.linear_model import LogisticRegression\n",
    "from sklearn.svm import SVC\n",
    "from sklearn.naive_bayes import GaussianNB\n",
    "from sklearn.pipeline import make_pipeline\n",
    "from sklearn.preprocessing import StandardScaler\n",
    "from sklearn.decomposition import PCA\n",
    "from sklearn.feature_selection import SelectKBest, chi2\n",
    "from sklearn.compose import make_column_transformer\n",
    "from sklearn.compose import make_column_selector as selector\n",
    "from rotation_forest import RotationForestClassifier\n",
    "\n",
    "# Load the Taiwan Credit Risk dataset\n",
    "df = pd.read_csv('UCI_Credit_Card.csv')\n",
    "df.drop(['ID', 'SEX', 'EDUCATION', 'MARRIAGE', 'AGE', 'PAY_2', 'PAY_3', 'PAY_4',\n",
    "       'PAY_5', 'PAY_6', 'BILL_AMT2', 'BILL_AMT4', 'PAY_AMT2', 'PAY_AMT3'],axis=1, inplace=True)\n",
    "\n",
    "X = df.iloc[:, :-1]\n",
    "y = df.iloc[:, -1]\n",
    "\n",
    "# Define the classifiers\n",
    "rotation_forest = RotationForestClassifier(n_estimators=10,\n",
    "                                        random_state=42)\n",
    "\n",
    "random_forest = RandomForestClassifier(n_estimators=10,\n",
    "                                        random_state=42)\n",
    "\n",
    "extra_trees = ExtraTreesClassifier(n_estimators=10,\n",
    "                                    random_state=42)\n",
    "\n",
    "# Define the cross-validation\n",
    "cv = KFold(n_splits=10, random_state=42, shuffle=True)\n",
    "\n",
    "# Define the scoring metrics\n",
    "scoring = ['accuracy', 'f1', 'precision', 'recall']\n",
    "\n",
    "# Perform cross-validation and print the results\n",
    "for clf, name in [(rotation_forest, 'Rotation Forest'),\n",
    "                  (random_forest, 'Random Forest'),\n",
    "                  (extra_trees, 'Extra Trees')]:\n",
    "\n",
    "    results = cross_validate(clf, X, y, cv=cv, scoring=scoring)\n",
    "\n",
    "    accuracy = results['test_accuracy'].mean()\n",
    "    f1 = results['test_f1'].mean()\n",
    "    precision = results['test_precision'].mean()\n",
    "    recall = results['test_recall'].mean()\n",
    "\n",
    "    print(f'{name}:')\n",
    "    print(f'Accuracy: {accuracy:.4f}')\n",
    "    print(f'F1 Score: {f1:.4f}')\n",
    "    print(f'Precision: {precision:.4f}')\n",
    "    print(f'Recall: {recall:.4f}')\n",
    "    print('-' * 50)"
   ]
  },
  {
   "cell_type": "code",
   "execution_count": null,
   "id": "d1366439",
   "metadata": {},
   "outputs": [],
   "source": []
  }
 ],
 "metadata": {
  "kernelspec": {
   "display_name": "Python 3 (ipykernel)",
   "language": "python",
   "name": "python3"
  },
  "language_info": {
   "codemirror_mode": {
    "name": "ipython",
    "version": 3
   },
   "file_extension": ".py",
   "mimetype": "text/x-python",
   "name": "python",
   "nbconvert_exporter": "python",
   "pygments_lexer": "ipython3",
   "version": "3.9.13"
  }
 },
 "nbformat": 4,
 "nbformat_minor": 5
}
